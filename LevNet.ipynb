{
 "cells": [
  {
   "cell_type": "markdown",
   "metadata": {},
   "source": [
    "# Dependencies"
   ]
  },
  {
   "cell_type": "code",
   "execution_count": 3,
   "metadata": {},
   "outputs": [],
   "source": [
    "import itertools as it\n",
    "from collections import OrderedDict\n",
    "import time\n",
    "import torch\n",
    "import numpy as np\n",
    "import pandas as pd\n",
    "import torch.nn as nn\n",
    "import torch.nn.functional as F\n",
    "import torchvision.utils \n",
    "import torchvision.models as models\n",
    "import torchvision.datasets as datasets\n",
    "import torchvision.transforms as transforms\n",
    "import torch.optim as optim\n",
    "from torch.utils.tensorboard import SummaryWriter\n",
    "from helpers import RunBuilder, RunManager\n",
    "\n",
    "%load_ext autoreload\n",
    "%autoreload 2"
   ]
  },
  {
   "cell_type": "markdown",
   "metadata": {},
   "source": [
    "# VGG16"
   ]
  },
  {
   "cell_type": "code",
   "execution_count": 2,
   "metadata": {},
   "outputs": [],
   "source": [
    "vgg16_trained = models.vgg16(pretrained=True)\n",
    "vgg16_untrained = models.vgg16()"
   ]
  },
  {
   "cell_type": "code",
   "execution_count": 3,
   "metadata": {
    "code_folding": []
   },
   "outputs": [],
   "source": [
    "def modify_model(model, input_channels, output_units):\n",
    "    '''\n",
    "    Parameters\n",
    "    \n",
    "    model: instance of a pytorch model to be modified\n",
    "    input_channels: channels of input tensor\n",
    "    output_units: number of units in the last layer\n",
    "    '''\n",
    "    model.features[0] = nn.Conv2d(input_channels, 64, kernel_size=3, stride=1, padding=1, dilation=1, groups=1, bias=True)\n",
    "    model.classifier[6] = nn.Linear(4096, output_units)"
   ]
  },
  {
   "cell_type": "code",
   "execution_count": 4,
   "metadata": {},
   "outputs": [],
   "source": [
    "modify_model(vgg16_trained, 2, 512)"
   ]
  },
  {
   "cell_type": "markdown",
   "metadata": {},
   "source": [
    "Test with a random input tensor:"
   ]
  },
  {
   "cell_type": "code",
   "execution_count": 5,
   "metadata": {},
   "outputs": [
    {
     "name": "stdout",
     "output_type": "stream",
     "text": [
      "torch.Size([1, 512])\n"
     ]
    }
   ],
   "source": [
    "x = torch.randn(1, 2, 256, 256) # (256, 256, 3)\n",
    "output = vgg16_trained(x)\n",
    "print(output.shape)"
   ]
  },
  {
   "cell_type": "code",
   "execution_count": 7,
   "metadata": {
    "scrolled": true
   },
   "outputs": [
    {
     "data": {
      "text/plain": [
       "VGG(\n",
       "  (features): Sequential(\n",
       "    (0): Conv2d(2, 64, kernel_size=(3, 3), stride=(1, 1), padding=(1, 1))\n",
       "    (1): ReLU(inplace=True)\n",
       "    (2): Conv2d(64, 64, kernel_size=(3, 3), stride=(1, 1), padding=(1, 1))\n",
       "    (3): ReLU(inplace=True)\n",
       "    (4): MaxPool2d(kernel_size=2, stride=2, padding=0, dilation=1, ceil_mode=False)\n",
       "    (5): Conv2d(64, 128, kernel_size=(3, 3), stride=(1, 1), padding=(1, 1))\n",
       "    (6): ReLU(inplace=True)\n",
       "    (7): Conv2d(128, 128, kernel_size=(3, 3), stride=(1, 1), padding=(1, 1))\n",
       "    (8): ReLU(inplace=True)\n",
       "    (9): MaxPool2d(kernel_size=2, stride=2, padding=0, dilation=1, ceil_mode=False)\n",
       "    (10): Conv2d(128, 256, kernel_size=(3, 3), stride=(1, 1), padding=(1, 1))\n",
       "    (11): ReLU(inplace=True)\n",
       "    (12): Conv2d(256, 256, kernel_size=(3, 3), stride=(1, 1), padding=(1, 1))\n",
       "    (13): ReLU(inplace=True)\n",
       "    (14): Conv2d(256, 256, kernel_size=(3, 3), stride=(1, 1), padding=(1, 1))\n",
       "    (15): ReLU(inplace=True)\n",
       "    (16): MaxPool2d(kernel_size=2, stride=2, padding=0, dilation=1, ceil_mode=False)\n",
       "    (17): Conv2d(256, 512, kernel_size=(3, 3), stride=(1, 1), padding=(1, 1))\n",
       "    (18): ReLU(inplace=True)\n",
       "    (19): Conv2d(512, 512, kernel_size=(3, 3), stride=(1, 1), padding=(1, 1))\n",
       "    (20): ReLU(inplace=True)\n",
       "    (21): Conv2d(512, 512, kernel_size=(3, 3), stride=(1, 1), padding=(1, 1))\n",
       "    (22): ReLU(inplace=True)\n",
       "    (23): MaxPool2d(kernel_size=2, stride=2, padding=0, dilation=1, ceil_mode=False)\n",
       "    (24): Conv2d(512, 512, kernel_size=(3, 3), stride=(1, 1), padding=(1, 1))\n",
       "    (25): ReLU(inplace=True)\n",
       "    (26): Conv2d(512, 512, kernel_size=(3, 3), stride=(1, 1), padding=(1, 1))\n",
       "    (27): ReLU(inplace=True)\n",
       "    (28): Conv2d(512, 512, kernel_size=(3, 3), stride=(1, 1), padding=(1, 1))\n",
       "    (29): ReLU(inplace=True)\n",
       "    (30): MaxPool2d(kernel_size=2, stride=2, padding=0, dilation=1, ceil_mode=False)\n",
       "  )\n",
       "  (avgpool): AdaptiveAvgPool2d(output_size=(7, 7))\n",
       "  (classifier): Sequential(\n",
       "    (0): Linear(in_features=25088, out_features=4096, bias=True)\n",
       "    (1): ReLU(inplace=True)\n",
       "    (2): Dropout(p=0.5, inplace=False)\n",
       "    (3): Linear(in_features=4096, out_features=4096, bias=True)\n",
       "    (4): ReLU(inplace=True)\n",
       "    (5): Dropout(p=0.5, inplace=False)\n",
       "    (6): Linear(in_features=4096, out_features=512, bias=True)\n",
       "  )\n",
       ")"
      ]
     },
     "execution_count": 7,
     "metadata": {},
     "output_type": "execute_result"
    }
   ],
   "source": [
    "vgg16_trained"
   ]
  },
  {
   "cell_type": "markdown",
   "metadata": {},
   "source": [
    "Features:"
   ]
  },
  {
   "cell_type": "code",
   "execution_count": 8,
   "metadata": {
    "scrolled": true
   },
   "outputs": [
    {
     "data": {
      "text/plain": [
       "Sequential(\n",
       "  (0): Conv2d(2, 64, kernel_size=(3, 3), stride=(1, 1), padding=(1, 1))\n",
       "  (1): ReLU(inplace=True)\n",
       "  (2): Conv2d(64, 64, kernel_size=(3, 3), stride=(1, 1), padding=(1, 1))\n",
       "  (3): ReLU(inplace=True)\n",
       "  (4): MaxPool2d(kernel_size=2, stride=2, padding=0, dilation=1, ceil_mode=False)\n",
       "  (5): Conv2d(64, 128, kernel_size=(3, 3), stride=(1, 1), padding=(1, 1))\n",
       "  (6): ReLU(inplace=True)\n",
       "  (7): Conv2d(128, 128, kernel_size=(3, 3), stride=(1, 1), padding=(1, 1))\n",
       "  (8): ReLU(inplace=True)\n",
       "  (9): MaxPool2d(kernel_size=2, stride=2, padding=0, dilation=1, ceil_mode=False)\n",
       "  (10): Conv2d(128, 256, kernel_size=(3, 3), stride=(1, 1), padding=(1, 1))\n",
       "  (11): ReLU(inplace=True)\n",
       "  (12): Conv2d(256, 256, kernel_size=(3, 3), stride=(1, 1), padding=(1, 1))\n",
       "  (13): ReLU(inplace=True)\n",
       "  (14): Conv2d(256, 256, kernel_size=(3, 3), stride=(1, 1), padding=(1, 1))\n",
       "  (15): ReLU(inplace=True)\n",
       "  (16): MaxPool2d(kernel_size=2, stride=2, padding=0, dilation=1, ceil_mode=False)\n",
       "  (17): Conv2d(256, 512, kernel_size=(3, 3), stride=(1, 1), padding=(1, 1))\n",
       "  (18): ReLU(inplace=True)\n",
       "  (19): Conv2d(512, 512, kernel_size=(3, 3), stride=(1, 1), padding=(1, 1))\n",
       "  (20): ReLU(inplace=True)\n",
       "  (21): Conv2d(512, 512, kernel_size=(3, 3), stride=(1, 1), padding=(1, 1))\n",
       "  (22): ReLU(inplace=True)\n",
       "  (23): MaxPool2d(kernel_size=2, stride=2, padding=0, dilation=1, ceil_mode=False)\n",
       "  (24): Conv2d(512, 512, kernel_size=(3, 3), stride=(1, 1), padding=(1, 1))\n",
       "  (25): ReLU(inplace=True)\n",
       "  (26): Conv2d(512, 512, kernel_size=(3, 3), stride=(1, 1), padding=(1, 1))\n",
       "  (27): ReLU(inplace=True)\n",
       "  (28): Conv2d(512, 512, kernel_size=(3, 3), stride=(1, 1), padding=(1, 1))\n",
       "  (29): ReLU(inplace=True)\n",
       "  (30): MaxPool2d(kernel_size=2, stride=2, padding=0, dilation=1, ceil_mode=False)\n",
       ")"
      ]
     },
     "execution_count": 8,
     "metadata": {},
     "output_type": "execute_result"
    }
   ],
   "source": [
    "vgg16_trained.features"
   ]
  },
  {
   "cell_type": "code",
   "execution_count": 9,
   "metadata": {},
   "outputs": [
    {
     "data": {
      "text/plain": [
       "Sequential(\n",
       "  (0): Linear(in_features=25088, out_features=4096, bias=True)\n",
       "  (1): ReLU(inplace=True)\n",
       "  (2): Dropout(p=0.5, inplace=False)\n",
       "  (3): Linear(in_features=4096, out_features=4096, bias=True)\n",
       "  (4): ReLU(inplace=True)\n",
       "  (5): Dropout(p=0.5, inplace=False)\n",
       "  (6): Linear(in_features=4096, out_features=512, bias=True)\n",
       ")"
      ]
     },
     "execution_count": 9,
     "metadata": {},
     "output_type": "execute_result"
    }
   ],
   "source": [
    "vgg16_trained.classifier"
   ]
  },
  {
   "cell_type": "markdown",
   "metadata": {},
   "source": [
    "Do the same with the untrained version:"
   ]
  },
  {
   "cell_type": "code",
   "execution_count": 10,
   "metadata": {},
   "outputs": [],
   "source": [
    "modify_model(vgg16_untrained, 2, 512)"
   ]
  },
  {
   "cell_type": "markdown",
   "metadata": {},
   "source": [
    "# Settings"
   ]
  },
  {
   "cell_type": "markdown",
   "metadata": {},
   "source": [
    "Create a dictionary with settings:"
   ]
  },
  {
   "cell_type": "code",
   "execution_count": 12,
   "metadata": {},
   "outputs": [],
   "source": [
    "criterion = nn.NLLLoss()\n",
    "params = OrderedDict(\n",
    "        lr=[0.01, 0.001],\n",
    "        batch_size=[128, 256]#, 512]\n",
    ")"
   ]
  },
  {
   "cell_type": "markdown",
   "metadata": {},
   "source": [
    "Move model to cuda:"
   ]
  },
  {
   "cell_type": "code",
   "execution_count": 5,
   "metadata": {},
   "outputs": [],
   "source": [
    "use_cuda = torch.cuda.is_available() # True if cuda is available"
   ]
  },
  {
   "cell_type": "code",
   "execution_count": 41,
   "metadata": {},
   "outputs": [],
   "source": [
    "# if use_cuda:\n",
    "#     model = model.cuda()"
   ]
  },
  {
   "cell_type": "markdown",
   "metadata": {},
   "source": [
    "## RunBuilder() functionality:"
   ]
  },
  {
   "cell_type": "code",
   "execution_count": 4,
   "metadata": {},
   "outputs": [
    {
     "data": {
      "text/plain": [
       "[Run(lr=0.01, batch_size=10),\n",
       " Run(lr=0.01, batch_size=128),\n",
       " Run(lr=0.01, batch_size=256),\n",
       " Run(lr=0.01, batch_size=512),\n",
       " Run(lr=0.001, batch_size=10),\n",
       " Run(lr=0.001, batch_size=128),\n",
       " Run(lr=0.001, batch_size=256),\n",
       " Run(lr=0.001, batch_size=512)]"
      ]
     },
     "execution_count": 4,
     "metadata": {},
     "output_type": "execute_result"
    }
   ],
   "source": [
    "runs = RunBuilder.get_runs(params)\n",
    "runs "
   ]
  },
  {
   "cell_type": "code",
   "execution_count": 7,
   "metadata": {},
   "outputs": [
    {
     "data": {
      "text/plain": [
       "Run(lr=0.01, batch_size=10)"
      ]
     },
     "execution_count": 7,
     "metadata": {},
     "output_type": "execute_result"
    }
   ],
   "source": [
    "# example \n",
    "run = runs[0]\n",
    "run"
   ]
  },
  {
   "cell_type": "code",
   "execution_count": 8,
   "metadata": {},
   "outputs": [
    {
     "name": "stdout",
     "output_type": "stream",
     "text": [
      "0.01 10\n"
     ]
    }
   ],
   "source": [
    "print(run.lr, run.batch_size)"
   ]
  },
  {
   "cell_type": "code",
   "execution_count": 9,
   "metadata": {},
   "outputs": [
    {
     "name": "stdout",
     "output_type": "stream",
     "text": [
      "Run(lr=0.01, batch_size=10) 0.01 10\n",
      "Run(lr=0.01, batch_size=128) 0.01 128\n",
      "Run(lr=0.01, batch_size=256) 0.01 256\n",
      "Run(lr=0.01, batch_size=512) 0.01 512\n",
      "Run(lr=0.001, batch_size=10) 0.001 10\n",
      "Run(lr=0.001, batch_size=128) 0.001 128\n",
      "Run(lr=0.001, batch_size=256) 0.001 256\n",
      "Run(lr=0.001, batch_size=512) 0.001 512\n"
     ]
    }
   ],
   "source": [
    "for run in runs:\n",
    "    print(run, run.lr, run.batch_size)"
   ]
  },
  {
   "cell_type": "code",
   "execution_count": 10,
   "metadata": {},
   "outputs": [],
   "source": [
    "for run in RunBuilder.get_runs(params):\n",
    "    # do stuff \n",
    "    pass"
   ]
  },
  {
   "cell_type": "markdown",
   "metadata": {},
   "source": [
    "## RunManager() functionality:"
   ]
  },
  {
   "cell_type": "code",
   "execution_count": 6,
   "metadata": {},
   "outputs": [],
   "source": [
    "transform = transforms.Compose([transforms.ToTensor()])\n",
    "\n",
    "dataset = datasets.FashionMNIST(\n",
    "                    root='./data',\n",
    "                    train=True,\n",
    "                    download=True,\n",
    "                    transform=transform)\n",
    "\n",
    "train_set, valid_set = torch.utils.data.random_split(dataset, [50000, 10000])"
   ]
  },
  {
   "cell_type": "code",
   "execution_count": 14,
   "metadata": {
    "scrolled": true
   },
   "outputs": [
    {
     "data": {
      "text/html": [
       "<div>\n",
       "<style scoped>\n",
       "    .dataframe tbody tr th:only-of-type {\n",
       "        vertical-align: middle;\n",
       "    }\n",
       "\n",
       "    .dataframe tbody tr th {\n",
       "        vertical-align: top;\n",
       "    }\n",
       "\n",
       "    .dataframe thead th {\n",
       "        text-align: right;\n",
       "    }\n",
       "</style>\n",
       "<table border=\"1\" class=\"dataframe\">\n",
       "  <thead>\n",
       "    <tr style=\"text-align: right;\">\n",
       "      <th></th>\n",
       "      <th>run</th>\n",
       "      <th>epoch</th>\n",
       "      <th>train loss</th>\n",
       "      <th>train accuracy</th>\n",
       "      <th>valid loss</th>\n",
       "      <th>valid accuracy</th>\n",
       "      <th>epoch duration</th>\n",
       "      <th>run duration</th>\n",
       "      <th>lr</th>\n",
       "      <th>batch_size</th>\n",
       "    </tr>\n",
       "  </thead>\n",
       "  <tbody>\n",
       "    <tr>\n",
       "      <th>0</th>\n",
       "      <td>1</td>\n",
       "      <td>1</td>\n",
       "      <td>0.559358</td>\n",
       "      <td>0.79278</td>\n",
       "      <td>0.500068</td>\n",
       "      <td>0.8389</td>\n",
       "      <td>6.943191</td>\n",
       "      <td>9.175670</td>\n",
       "      <td>0.010</td>\n",
       "      <td>128</td>\n",
       "    </tr>\n",
       "    <tr>\n",
       "      <th>1</th>\n",
       "      <td>1</td>\n",
       "      <td>2</td>\n",
       "      <td>0.408982</td>\n",
       "      <td>0.85220</td>\n",
       "      <td>0.416265</td>\n",
       "      <td>0.8520</td>\n",
       "      <td>7.270731</td>\n",
       "      <td>16.551406</td>\n",
       "      <td>0.010</td>\n",
       "      <td>128</td>\n",
       "    </tr>\n",
       "    <tr>\n",
       "      <th>2</th>\n",
       "      <td>1</td>\n",
       "      <td>3</td>\n",
       "      <td>0.387214</td>\n",
       "      <td>0.85982</td>\n",
       "      <td>0.393767</td>\n",
       "      <td>0.8625</td>\n",
       "      <td>7.123136</td>\n",
       "      <td>23.775504</td>\n",
       "      <td>0.010</td>\n",
       "      <td>128</td>\n",
       "    </tr>\n",
       "    <tr>\n",
       "      <th>3</th>\n",
       "      <td>1</td>\n",
       "      <td>4</td>\n",
       "      <td>0.357659</td>\n",
       "      <td>0.87004</td>\n",
       "      <td>0.376747</td>\n",
       "      <td>0.8689</td>\n",
       "      <td>6.945115</td>\n",
       "      <td>30.820619</td>\n",
       "      <td>0.010</td>\n",
       "      <td>128</td>\n",
       "    </tr>\n",
       "    <tr>\n",
       "      <th>4</th>\n",
       "      <td>1</td>\n",
       "      <td>5</td>\n",
       "      <td>0.344398</td>\n",
       "      <td>0.87560</td>\n",
       "      <td>0.406553</td>\n",
       "      <td>0.8553</td>\n",
       "      <td>6.959184</td>\n",
       "      <td>37.875805</td>\n",
       "      <td>0.010</td>\n",
       "      <td>128</td>\n",
       "    </tr>\n",
       "    <tr>\n",
       "      <th>5</th>\n",
       "      <td>2</td>\n",
       "      <td>1</td>\n",
       "      <td>0.599918</td>\n",
       "      <td>0.78016</td>\n",
       "      <td>0.520792</td>\n",
       "      <td>0.8226</td>\n",
       "      <td>6.725500</td>\n",
       "      <td>9.065559</td>\n",
       "      <td>0.010</td>\n",
       "      <td>256</td>\n",
       "    </tr>\n",
       "    <tr>\n",
       "      <th>6</th>\n",
       "      <td>2</td>\n",
       "      <td>2</td>\n",
       "      <td>0.409569</td>\n",
       "      <td>0.85288</td>\n",
       "      <td>0.438792</td>\n",
       "      <td>0.8478</td>\n",
       "      <td>8.216111</td>\n",
       "      <td>17.380623</td>\n",
       "      <td>0.010</td>\n",
       "      <td>256</td>\n",
       "    </tr>\n",
       "    <tr>\n",
       "      <th>7</th>\n",
       "      <td>2</td>\n",
       "      <td>3</td>\n",
       "      <td>0.369095</td>\n",
       "      <td>0.86372</td>\n",
       "      <td>0.427583</td>\n",
       "      <td>0.8481</td>\n",
       "      <td>7.819015</td>\n",
       "      <td>25.362638</td>\n",
       "      <td>0.010</td>\n",
       "      <td>256</td>\n",
       "    </tr>\n",
       "    <tr>\n",
       "      <th>8</th>\n",
       "      <td>2</td>\n",
       "      <td>4</td>\n",
       "      <td>0.343454</td>\n",
       "      <td>0.87448</td>\n",
       "      <td>0.356983</td>\n",
       "      <td>0.8770</td>\n",
       "      <td>7.720002</td>\n",
       "      <td>33.191637</td>\n",
       "      <td>0.010</td>\n",
       "      <td>256</td>\n",
       "    </tr>\n",
       "    <tr>\n",
       "      <th>9</th>\n",
       "      <td>2</td>\n",
       "      <td>5</td>\n",
       "      <td>0.325467</td>\n",
       "      <td>0.87994</td>\n",
       "      <td>0.379268</td>\n",
       "      <td>0.8679</td>\n",
       "      <td>7.920476</td>\n",
       "      <td>41.234078</td>\n",
       "      <td>0.010</td>\n",
       "      <td>256</td>\n",
       "    </tr>\n",
       "    <tr>\n",
       "      <th>10</th>\n",
       "      <td>3</td>\n",
       "      <td>1</td>\n",
       "      <td>0.642720</td>\n",
       "      <td>0.77356</td>\n",
       "      <td>0.453565</td>\n",
       "      <td>0.8453</td>\n",
       "      <td>7.958232</td>\n",
       "      <td>10.829227</td>\n",
       "      <td>0.001</td>\n",
       "      <td>128</td>\n",
       "    </tr>\n",
       "    <tr>\n",
       "      <th>11</th>\n",
       "      <td>3</td>\n",
       "      <td>2</td>\n",
       "      <td>0.414650</td>\n",
       "      <td>0.85064</td>\n",
       "      <td>0.382451</td>\n",
       "      <td>0.8626</td>\n",
       "      <td>7.578017</td>\n",
       "      <td>18.516206</td>\n",
       "      <td>0.001</td>\n",
       "      <td>128</td>\n",
       "    </tr>\n",
       "    <tr>\n",
       "      <th>12</th>\n",
       "      <td>3</td>\n",
       "      <td>3</td>\n",
       "      <td>0.365736</td>\n",
       "      <td>0.86700</td>\n",
       "      <td>0.397844</td>\n",
       "      <td>0.8553</td>\n",
       "      <td>7.322587</td>\n",
       "      <td>25.956825</td>\n",
       "      <td>0.001</td>\n",
       "      <td>128</td>\n",
       "    </tr>\n",
       "    <tr>\n",
       "      <th>13</th>\n",
       "      <td>3</td>\n",
       "      <td>4</td>\n",
       "      <td>0.335952</td>\n",
       "      <td>0.87642</td>\n",
       "      <td>0.393973</td>\n",
       "      <td>0.8596</td>\n",
       "      <td>7.204659</td>\n",
       "      <td>33.299478</td>\n",
       "      <td>0.001</td>\n",
       "      <td>128</td>\n",
       "    </tr>\n",
       "    <tr>\n",
       "      <th>14</th>\n",
       "      <td>3</td>\n",
       "      <td>5</td>\n",
       "      <td>0.319880</td>\n",
       "      <td>0.88204</td>\n",
       "      <td>0.339992</td>\n",
       "      <td>0.8797</td>\n",
       "      <td>7.488912</td>\n",
       "      <td>40.926383</td>\n",
       "      <td>0.001</td>\n",
       "      <td>128</td>\n",
       "    </tr>\n",
       "    <tr>\n",
       "      <th>15</th>\n",
       "      <td>4</td>\n",
       "      <td>1</td>\n",
       "      <td>0.748138</td>\n",
       "      <td>0.73784</td>\n",
       "      <td>0.499998</td>\n",
       "      <td>0.8302</td>\n",
       "      <td>6.716882</td>\n",
       "      <td>9.165113</td>\n",
       "      <td>0.001</td>\n",
       "      <td>256</td>\n",
       "    </tr>\n",
       "    <tr>\n",
       "      <th>16</th>\n",
       "      <td>4</td>\n",
       "      <td>2</td>\n",
       "      <td>0.454652</td>\n",
       "      <td>0.84064</td>\n",
       "      <td>0.452434</td>\n",
       "      <td>0.8447</td>\n",
       "      <td>6.688318</td>\n",
       "      <td>15.955405</td>\n",
       "      <td>0.001</td>\n",
       "      <td>256</td>\n",
       "    </tr>\n",
       "    <tr>\n",
       "      <th>17</th>\n",
       "      <td>4</td>\n",
       "      <td>3</td>\n",
       "      <td>0.401812</td>\n",
       "      <td>0.85772</td>\n",
       "      <td>0.394431</td>\n",
       "      <td>0.8650</td>\n",
       "      <td>6.972590</td>\n",
       "      <td>23.056994</td>\n",
       "      <td>0.001</td>\n",
       "      <td>256</td>\n",
       "    </tr>\n",
       "    <tr>\n",
       "      <th>18</th>\n",
       "      <td>4</td>\n",
       "      <td>4</td>\n",
       "      <td>0.366785</td>\n",
       "      <td>0.86920</td>\n",
       "      <td>0.402055</td>\n",
       "      <td>0.8597</td>\n",
       "      <td>6.979889</td>\n",
       "      <td>30.150887</td>\n",
       "      <td>0.001</td>\n",
       "      <td>256</td>\n",
       "    </tr>\n",
       "    <tr>\n",
       "      <th>19</th>\n",
       "      <td>4</td>\n",
       "      <td>5</td>\n",
       "      <td>0.345175</td>\n",
       "      <td>0.87524</td>\n",
       "      <td>0.362810</td>\n",
       "      <td>0.8739</td>\n",
       "      <td>6.807027</td>\n",
       "      <td>37.069862</td>\n",
       "      <td>0.001</td>\n",
       "      <td>256</td>\n",
       "    </tr>\n",
       "  </tbody>\n",
       "</table>\n",
       "</div>"
      ],
      "text/plain": [
       "    run  epoch  train loss  train accuracy  valid loss  valid accuracy  \\\n",
       "0     1      1    0.559358         0.79278    0.500068          0.8389   \n",
       "1     1      2    0.408982         0.85220    0.416265          0.8520   \n",
       "2     1      3    0.387214         0.85982    0.393767          0.8625   \n",
       "3     1      4    0.357659         0.87004    0.376747          0.8689   \n",
       "4     1      5    0.344398         0.87560    0.406553          0.8553   \n",
       "5     2      1    0.599918         0.78016    0.520792          0.8226   \n",
       "6     2      2    0.409569         0.85288    0.438792          0.8478   \n",
       "7     2      3    0.369095         0.86372    0.427583          0.8481   \n",
       "8     2      4    0.343454         0.87448    0.356983          0.8770   \n",
       "9     2      5    0.325467         0.87994    0.379268          0.8679   \n",
       "10    3      1    0.642720         0.77356    0.453565          0.8453   \n",
       "11    3      2    0.414650         0.85064    0.382451          0.8626   \n",
       "12    3      3    0.365736         0.86700    0.397844          0.8553   \n",
       "13    3      4    0.335952         0.87642    0.393973          0.8596   \n",
       "14    3      5    0.319880         0.88204    0.339992          0.8797   \n",
       "15    4      1    0.748138         0.73784    0.499998          0.8302   \n",
       "16    4      2    0.454652         0.84064    0.452434          0.8447   \n",
       "17    4      3    0.401812         0.85772    0.394431          0.8650   \n",
       "18    4      4    0.366785         0.86920    0.402055          0.8597   \n",
       "19    4      5    0.345175         0.87524    0.362810          0.8739   \n",
       "\n",
       "    epoch duration  run duration     lr  batch_size  \n",
       "0         6.943191      9.175670  0.010         128  \n",
       "1         7.270731     16.551406  0.010         128  \n",
       "2         7.123136     23.775504  0.010         128  \n",
       "3         6.945115     30.820619  0.010         128  \n",
       "4         6.959184     37.875805  0.010         128  \n",
       "5         6.725500      9.065559  0.010         256  \n",
       "6         8.216111     17.380623  0.010         256  \n",
       "7         7.819015     25.362638  0.010         256  \n",
       "8         7.720002     33.191637  0.010         256  \n",
       "9         7.920476     41.234078  0.010         256  \n",
       "10        7.958232     10.829227  0.001         128  \n",
       "11        7.578017     18.516206  0.001         128  \n",
       "12        7.322587     25.956825  0.001         128  \n",
       "13        7.204659     33.299478  0.001         128  \n",
       "14        7.488912     40.926383  0.001         128  \n",
       "15        6.716882      9.165113  0.001         256  \n",
       "16        6.688318     15.955405  0.001         256  \n",
       "17        6.972590     23.056994  0.001         256  \n",
       "18        6.979889     30.150887  0.001         256  \n",
       "19        6.807027     37.069862  0.001         256  "
      ]
     },
     "metadata": {},
     "output_type": "display_data"
    }
   ],
   "source": [
    "m = RunManager()\n",
    "for run in RunBuilder.get_runs(params):\n",
    "    \n",
    "    network = Classifier().cuda() if use_cuda else Classifier()\n",
    "    train_loader = torch.utils.data.DataLoader(train_set, num_workers=1, batch_size=run.batch_size, shuffle=True)\n",
    "    valid_loader = torch.utils.data.DataLoader(valid_set, num_workers=1, batch_size=run.batch_size, shuffle=True)\n",
    "    loaders = OrderedDict(train=train_loader, valid=valid_loader)\n",
    "    optimizer = optim.Adam(network.parameters(), lr=run.lr)\n",
    "    \n",
    "    m.begin_run(run, network, loaders)\n",
    "    network.train() # keep grads\n",
    "    for epoch in range(5):\n",
    "        m.begin_epoch()\n",
    "        \n",
    "        # Train\n",
    "        for batch_idx, (images, labels) in enumerate(loaders['train']):\n",
    "            \n",
    "            images, labels = images.cuda(), labels.cuda()\n",
    "            optimizer.zero_grad()\n",
    "            preds = network(images)\n",
    "            loss = criterion(preds, labels)\n",
    "            loss.backward()\n",
    "            optimizer.step()\n",
    "            \n",
    "            m.track_loss(loss, 'train')\n",
    "            m.track_num_correct(preds, labels, 'train')\n",
    "        \n",
    "        # Validation\n",
    "        network.eval()\n",
    "        for batch_idx, (images, labels) in enumerate(loaders['valid']):\n",
    "            \n",
    "            images, labels = images.cuda(), labels.cuda()\n",
    "            preds = network(images)\n",
    "            loss = criterion(preds, labels)\n",
    "            \n",
    "            m.track_loss(loss, 'valid')\n",
    "            m.track_num_correct(preds, labels, 'valid')\n",
    "            \n",
    "        m.end_epoch()\n",
    "    m.end_run()\n",
    "m.save_results('results')"
   ]
  },
  {
   "cell_type": "markdown",
   "metadata": {},
   "source": [
    "# Test a simple model on Fashion MNIST dataset "
   ]
  },
  {
   "cell_type": "code",
   "execution_count": 7,
   "metadata": {},
   "outputs": [],
   "source": [
    "# TODO: Define your network architecture here\n",
    "class Classifier(nn.Module):\n",
    "    def __init__(self):\n",
    "        super().__init__()\n",
    "        self.fc1 = nn.Linear(784, 256)\n",
    "        self.fc2 = nn.Linear(256, 128)\n",
    "        self.fc3 = nn.Linear(128, 64)\n",
    "        self.fc4 = nn.Linear(64, 10)\n",
    "\n",
    "    def forward(self, x):\n",
    "        # make sure input tensor is flattened\n",
    "        x = x.view(x.shape[0], -1)\n",
    "\n",
    "        x = F.relu(self.fc1(x))\n",
    "        x = F.relu(self.fc2(x))\n",
    "        x = F.relu(self.fc3(x))\n",
    "        x = F.log_softmax(self.fc4(x), dim=1)\n",
    "\n",
    "        return x\n",
    "    \n",
    "def get_num_correct(preds, labels):\n",
    "    return preds.argmax(dim=1).eq(labels).sum().item()"
   ]
  },
  {
   "cell_type": "markdown",
   "metadata": {},
   "source": [
    "# Train model"
   ]
  },
  {
   "cell_type": "markdown",
   "metadata": {},
   "source": [
    "Define a train and test function:"
   ]
  }
 ],
 "metadata": {
  "kernelspec": {
   "display_name": "Python 3",
   "language": "python",
   "name": "python3"
  },
  "language_info": {
   "codemirror_mode": {
    "name": "ipython",
    "version": 3
   },
   "file_extension": ".py",
   "mimetype": "text/x-python",
   "name": "python",
   "nbconvert_exporter": "python",
   "pygments_lexer": "ipython3",
   "version": "3.7.2"
  },
  "toc": {
   "base_numbering": 1,
   "nav_menu": {},
   "number_sections": true,
   "sideBar": true,
   "skip_h1_title": false,
   "title_cell": "Table of Contents",
   "title_sidebar": "Contents",
   "toc_cell": false,
   "toc_position": {},
   "toc_section_display": true,
   "toc_window_display": false
  },
  "toc-autonumbering": true
 },
 "nbformat": 4,
 "nbformat_minor": 4
}
